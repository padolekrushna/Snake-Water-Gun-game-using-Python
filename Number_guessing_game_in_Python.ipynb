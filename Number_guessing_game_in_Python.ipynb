{
  "nbformat": 4,
  "nbformat_minor": 0,
  "metadata": {
    "colab": {
      "provenance": [],
      "authorship_tag": "ABX9TyO5TidD12rIwq+zSyHMTL+o",
      "include_colab_link": true
    },
    "kernelspec": {
      "name": "python3",
      "display_name": "Python 3"
    },
    "language_info": {
      "name": "python"
    }
  },
  "cells": [
    {
      "cell_type": "markdown",
      "metadata": {
        "id": "view-in-github",
        "colab_type": "text"
      },
      "source": [
        "<a href=\"https://colab.research.google.com/github/padolekrushna/projects-on-python/blob/main/Number_guessing_game_in_Python.ipynb\" target=\"_parent\"><img src=\"https://colab.research.google.com/assets/colab-badge.svg\" alt=\"Open In Colab\"/></a>"
      ]
    },
    {
      "cell_type": "code",
      "execution_count": 2,
      "metadata": {
        "colab": {
          "base_uri": "https://localhost:8080/"
        },
        "id": "iysThtBXs4t9",
        "outputId": "553ba0fb-8251-4e9e-e68a-123143ad15a3"
      },
      "outputs": [
        {
          "output_type": "stream",
          "name": "stdout",
          "text": [
            "Enter your guess: 20\n",
            "You guessed it wrong! Enter a larger number\n",
            "Enter your guess: 30\n",
            "You guessed it wrong! Enter a larger number\n",
            "Enter your guess: 40\n",
            "You guessed it wrong! Enter a larger number\n",
            "Enter your guess: 50\n",
            "You guessed it wrong! Enter a larger number\n",
            "Enter your guess: 60\n",
            "You guessed it wrong! Enter a larger number\n",
            "Enter your guess: 70\n",
            "You guessed it wrong! Enter a smaller number\n",
            "Enter your guess: 65\n",
            "You guessed it wrong! Enter a larger number\n",
            "Enter your guess: 68\n",
            "You guessed it wrong! Enter a larger number\n",
            "Enter your guess: 69\n",
            "You guessed it right!\n",
            "You guessed the number in 9 guesses\n"
          ]
        }
      ],
      "source": [
        "import random\n",
        "randNumber = random.randint(1, 100)\n",
        "userGuess = None\n",
        "guesses = 0\n",
        "\n",
        "while(userGuess != randNumber):\n",
        "    userGuess = int(input(\"Enter your guess: \"))\n",
        "    guesses += 1\n",
        "    if(userGuess==randNumber):\n",
        "        print(\"You guessed it right!\")\n",
        "    else:\n",
        "        if(userGuess>randNumber):\n",
        "            print(\"You guessed it wrong! Enter a smaller number\")\n",
        "        else:\n",
        "            print(\"You guessed it wrong! Enter a larger number\")\n",
        "\n",
        "print(f\"You guessed the number in {guesses} guesses\")"
      ]
    },
    {
      "cell_type": "code",
      "source": [],
      "metadata": {
        "id": "ikbrRCWTtRCy"
      },
      "execution_count": null,
      "outputs": []
    }
  ]
}